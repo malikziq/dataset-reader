{
 "cells": [
  {
   "cell_type": "markdown",
   "metadata": {},
   "source": [
    "# Data Mangemnet\n",
    "\n",
    "### Data files has to be structerd as the following: \n",
    "    .\n",
    "    ├── ...\n",
    "    ├── root                    \n",
    "    │   ├── class1 \n",
    "    │   │   └── Data to be read\n",
    "    │   ├── class2  \n",
    "    │   │   └── Data to be read\n",
    "    │   ├── ...                         \n",
    "    │   └── class3    \n",
    "    │       └── Data to be read\n",
    "    └── ..."
   ]
  },
  {
   "cell_type": "markdown",
   "metadata": {},
   "source": [
    "## Imports"
   ]
  },
  {
   "cell_type": "code",
   "execution_count": 31,
   "metadata": {},
   "outputs": [],
   "source": [
    "# Access files and directories \n",
    "import os\n",
    "from glob import glob\n",
    "# To read and preprocess images and show\n",
    "import cv2\n",
    "import matplotlib.pyplot as plt\n",
    "# Progress bar `Not importnant`\n",
    "from tqdm import tqdm\n",
    "from IPython.display import clear_output\n",
    "# To save data as pickle\n",
    "import joblib\n",
    "# You know why\n",
    "import numpy as np"
   ]
  },
  {
   "cell_type": "markdown",
   "metadata": {},
   "source": [
    "## Read Data \n"
   ]
  },
  {
   "cell_type": "markdown",
   "metadata": {},
   "source": [
    "### Variables"
   ]
  },
  {
   "cell_type": "code",
   "execution_count": 32,
   "metadata": {},
   "outputs": [],
   "source": [
    "# Data Set Path which is the root path \n",
    "data_path = '/Users/malikziq/DataSets/APIT_Arabic_Words_Images/'\n",
    "# Data file extention to be read\n",
    "extention = '.png'\n",
    "# Dictionary where each class is the key and the values are the images\n",
    "data_dic = {}\n",
    "# Total amonut of images in the dataset\n",
    "total_count = 0\n",
    "# Classes in the dataset\n",
    "data_classes = []\n",
    "# Amount of data from each class\n",
    "data_amount = 5000\n",
    "\n",
    "# Images values\n",
    "images_values = []\n",
    "# Images labels\n",
    "images_labels = []"
   ]
  },
  {
   "cell_type": "code",
   "execution_count": 33,
   "metadata": {},
   "outputs": [
    {
     "name": "stdout",
     "output_type": "stream",
     "text": [
      "['/Users/malikziq/DataSets/APIT_Arabic_Words_Images/deco_type_naskh', '/Users/malikziq/DataSets/APIT_Arabic_Words_Images/advirtising_bold', '/Users/malikziq/DataSets/APIT_Arabic_Words_Images/andalus', '/Users/malikziq/DataSets/APIT_Arabic_Words_Images/diwani_letter', '/Users/malikziq/DataSets/APIT_Arabic_Words_Images/municode_sara']\n"
     ]
    }
   ],
   "source": [
    "print(glob(data_path + '*'))"
   ]
  },
  {
   "cell_type": "code",
   "execution_count": 34,
   "metadata": {},
   "outputs": [
    {
     "name": "stdout",
     "output_type": "stream",
     "text": [
      "Reading data of class:  deco_type_naskh\n",
      "Reading data of class:  advirtising_bold\n",
      "Reading data of class:  andalus\n",
      "Reading data of class:  diwani_letter\n",
      "Reading data of class:  municode_sara\n"
     ]
    }
   ],
   "source": [
    "# Read data from each class under the dirs name\n",
    "# ** Note that the folders or any other type of files that doesn't end with the spicefied extention \n",
    "#  Will not be read \n",
    "for each in glob(data_path + '*'):\n",
    "    # Take the last file name (Class) from the path \n",
    "    word = each.split(\"/\")[-1]\n",
    "    print('Reading data of class: ',word)\n",
    "    \n",
    "    # Set new Class in the data_dic\n",
    "    data_dic[word] = []\n",
    "    data_classes.append(word)\n",
    "    \n",
    "    # Get data for each class\n",
    "    for root, dirs, files in os.walk(each):\n",
    "        for file in files:\n",
    "            if file.lower().endswith(extention):\n",
    "                # join root path with image name\n",
    "                image_path = os.path.join(root, file)\n",
    "                # Read image in gray level\n",
    "                image_value = cv2.imread(image_path, 0)\n",
    "                data_dic[word].append(image_value)\n",
    "                total_count += 1\n",
    "                \n",
    "                if total_count % data_amount == 0:\n",
    "                    break"
   ]
  },
  {
   "cell_type": "code",
   "execution_count": 35,
   "metadata": {},
   "outputs": [
    {
     "name": "stdout",
     "output_type": "stream",
     "text": [
      "25000\n"
     ]
    }
   ],
   "source": [
    "print(total_count)"
   ]
  },
  {
   "cell_type": "markdown",
   "metadata": {},
   "source": [
    "### Convert data into two lists:\n",
    "* Images list : that has the images values \n",
    "* Classes list : Images labels"
   ]
  },
  {
   "cell_type": "code",
   "execution_count": 36,
   "metadata": {},
   "outputs": [],
   "source": [
    "class_id = 0\n",
    "for each_class in data_classes:\n",
    "    for each_image in data_dic[each_class]:\n",
    "        images_values.append(each_image)\n",
    "        images_labels.append(class_id)\n",
    "    \n",
    "    class_id += 1"
   ]
  },
  {
   "cell_type": "markdown",
   "metadata": {},
   "source": [
    "## Dump data"
   ]
  },
  {
   "cell_type": "code",
   "execution_count": 37,
   "metadata": {},
   "outputs": [
    {
     "data": {
      "text/plain": [
       "['dataDic_dataClasses.pkl']"
      ]
     },
     "execution_count": 37,
     "metadata": {},
     "output_type": "execute_result"
    }
   ],
   "source": [
    "# dump data dic(class , [images]) and data classes\n",
    "joblib.dump((data_dic, data_classes), \"dataDic_dataClasses.pkl\", compress=3)"
   ]
  },
  {
   "cell_type": "code",
   "execution_count": 41,
   "metadata": {},
   "outputs": [
    {
     "data": {
      "text/plain": [
       "['imges_labels_classes.pkl']"
      ]
     },
     "execution_count": 41,
     "metadata": {},
     "output_type": "execute_result"
    }
   ],
   "source": [
    "# Dump data as lists -> (images list, images labels, classes vlaues)\n",
    "joblib.dump((images_values, images_labels, data_classes), \"imges_labels_classes.pkl\", compress=3)"
   ]
  }
 ],
 "metadata": {
  "kernelspec": {
   "display_name": "Python 3",
   "language": "python",
   "name": "python3"
  },
  "language_info": {
   "codemirror_mode": {
    "name": "ipython",
    "version": 3
   },
   "file_extension": ".py",
   "mimetype": "text/x-python",
   "name": "python",
   "nbconvert_exporter": "python",
   "pygments_lexer": "ipython3",
   "version": "3.7.6"
  }
 },
 "nbformat": 4,
 "nbformat_minor": 4
}
